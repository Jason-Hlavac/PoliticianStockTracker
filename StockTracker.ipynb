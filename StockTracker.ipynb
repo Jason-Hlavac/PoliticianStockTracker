from bs4 import BeautifulSoup
import requests
import time
from datetime import datetime
from dateutil.relativedelta import relativedelta
import copy
import smtplib
try:
    from ipynb.fs.full.auth import *
except:
    import auth.py
import json

date_format = "%Y/%m/%d"
now = datetime.now()
d = datetime.strptime(str(now.year)+ "/" + str(now.month)+ "/" + str(now.day), date_format)
d = d- relativedelta(months=3)

carriers = {
    "att":    "@mms.att.net",
    "tmobile": "@tmomail.net",
    "verizon":  "@vtext.com",
    "sprint":   "@page.nextel.com"
}

parties = {
    "R" : "Republican",
    "D" : "Democrat",
    "I" : "Independent"
}

transaction = {
    "S" : "Sold",
    "P" : "Purchased",
    "E" : "Exchanged"
}


def send(number, message):
    #Send Text Message
    server.sendmail(email, number, message)

def setUp():
    global server
    server = smtplib.SMTP("smtp.gmail.com", 587)
    server.connect("smtp.gmail.com", 587)
    server.ehlo()
    server.starttls()
    server.login(email, password)
    
def main(senateRecent, houseRecent, stockRecent):
    #Initialize Variables
    stockList = []
    limit = 1000000
    messageList = []
    notifySenate = []
    notifyHouse = []
    senateList = []
    houseList = []
    common = {}
    senateLink = 'https://www.quiverquant.com/sources/senatetrading'
    houseLink = 'https://www.quiverquant.com/sources/housetrading'
    #Get Pages with data
    senatePage = requests.get(senateLink)
    housePage = requests.get(houseLink)
    #Parse Data
    senateSoup = BeautifulSoup(senatePage.content, 'html.parser')
    houseSoup = BeautifulSoup(housePage.content, 'html.parser')
    senateListBS4 = senateSoup.find_all('tr')
    #Convert BS$ elements to Strings and Lists
    for x in senateListBS4:
        senateList.append(str(x))
    houseListBS4 = houseSoup.find_all('tr')
    for y in houseListBS4:
        houseList.append(str(y))
    senateList = senateList[1:]
    houseList = houseList[1:]
    #Get rid of the sales

    for x in senateList:
        if(x.find("Sale") == -1):
            senateList.remove(x)

    for y in houseList:
        if(y.find("Sale") == -1):
            houseList.remove(y)


    #Find most common buys
    afterDate = True
    i=0
    dates = []
    while(afterDate and i < len(senateList)):
        date = senateList[i][senateList[i].find("</p>")+4 : senateList[i].find("</td>", senateList[i].find("</p>"))]

        for k in range(2):
            dates.append(date[0: date.find("/")])
            date = date[date.find("/")+1 : ]
        dates.append(date)
        date = datetime(int(dates[2]), int(dates[0]), int(dates[1]))
        dates.clear()
        if(date < d):
            afterDate = False
        else:
            i+=1
            stock = senateList[i][senateList[i].find("/dashboard/") +11: senateList[i].find("\"", senateList[i].find("/dashboard/") +11)]
            if stock in common:
                common[stock] += 1
            else:
                common[stock] = 1
        
    
    
    afterDate = True
    i=0
    while(afterDate and i < len(houseList)):
        date = houseList[i][houseList[i].find("</p>")+4 : houseList[i].find("</td>", houseList[i].find("</p>"))]
        for k in range(2):
            dates.append(date[0: date.find("/")])
            date = date[date.find("/")+1 :-1 ]
        dates.append(date)
        date = datetime(int(dates[2]), int(dates[0]), int(dates[1]))
        dates.clear()
        if(date < d):
            afterDate = False
        else:
            stock = houseList[i][houseList[i].find("/dashboard/") +11: houseList[i].find("\"", houseList[i].find("/dashboard/") +11)]
            if stock in common:
                common[stock] += 1
            else:
                common[stock] = 1
    
        i+=1
            
    #Determine what in the data is noteworthy
    if(senateRecent in senateList and senateRecent != ""):
        senateList = senateList[0:senateList.index(senateRecent)]
    if(houseRecent in houseList and houseRecent != ""):
        houseList = houseList[0: houseList.index(houseRecent)]
    for i in range(len(senateList)):
        if(float(senateList[i][senateList[i].find("$")+1: senateList[i].find(" ", senateList[i].find("$"))].replace(",", "")) >= limit):
                notifySenate.append(senateList[i])
    for i in range(len(houseList)):
        try:
            if(float(houseList[i][houseList[i].find("$")+1: houseList[i].find("-", houseList[i].find("$"))].replace(",", "")) >= limit):
                notifyHouse.append(houseList[i])
        except:
            if(float(houseList[i][houseList[i].find("$")+1: houseList[i].find("</td>", houseList[i].find("$"))].replace(",", ""))/2 >= limit):
                notifyHouse.append(houseList[i])
        
    
    #create messages
    for i in range(len(notifySenate)):
        list = []    
        list = notifySenate[i].split("<td>")
        stock = list[1][list[1].find(">")+1 : list[1].find("</a>")]
        name = list[3][list[3].find(",")+2 : list[3].find("</td>")] + " " + list[3][0: list[3].find(",")]
        transactionType = list[4][0 : 1].translate(str.maketrans(transaction))
        party = list[6][0:1].translate(str.maketrans(parties))
        if(len(party) == 1):
            party = "Unknown Party"
        valueRange = list[5][0 : list[5].find("</td>")]
        date = list[2][list[2].find("</p>")+4 : list[2].find("</td>")]
        message = "{0}({1}) {2} {3} of {4} on {5}.".format(name, party, transactionType, valueRange, stock, date)
        messageList.insert(0, message)
        
    for i in range(len(notifyHouse)):
        list = []    
        list = notifyHouse[i].split("<td>")
        stock = list[1][list[1].find(">")+1 : list[1].find("</a>")]
        name = list[3][0: list[3].find("</td>")]
        transactionType = list[4][0 : 1].translate(str.maketrans(transaction))
        party = list[6][0: list[6].find("</td>")]
        valueRange = list[5][0 : list[5].find("</td>")]

        date = list[2][list[2].find("</p>")+4 : list[2].find("</td>")]
        message = "{0}({1}) {2} {3} of {4} on {5}.".format(name, party, transactionType, valueRange, stock, date)
        messageList.insert(0, message)
        
    for key in common:
        if(common[key] > 3):
            stockLink = "https://www.marketwatch.com/investing/stock/" + key
            stockPage = requests.get(stockLink)
            stockSoup = BeautifulSoup(stockPage.content, 'html.parser')
            price = str(stockSoup.find(class_ = "intraday__price"))
            price = price[price.find("after\">") + 7 : price.find("</", price.find("after\">") + 7)]

            price = price.replace(",", "")
            if(price == ""):
                price = 0
            try:
                price = float(price)
                if(price <= 60.0):
                    message = "{0} | {1} | ${2}|\n".format(key, common[key], price)
                    stockList.append(message)
            except:
                print("Failure to determine price for stock: {}".format(key))
                    
    #send messages
    print(common)
    if(len("".join(stockList)) != 0 and common != stockRecent ):
        send("0000000000{0}".format(carriers["verizon"]), "".join(stockList))
        stockRecent = common
        fr = open("stockRecentStorage.json", "w")
        json.dump(common, fr)
        fr.close()
        
    for i in range(len(messageList)):
        send("0000000000{0}".format(carriers["CARRIER"], messageList[len(messageList)-i]))
        time.sleep(20)
        
    
    #reset
    server.close()
    
    if(len(senateList)>0):
        fs = open("senateRecentStorage.json", "w")
        json.dump(senateList[0],fs)
        senateRecent = senateList[0]
        fs.close()
    
    
    if(len(houseList)>0):
        fh = open("houseRecentStorage.json", "w")
        json.dump(houseList[0],fh)
        houseRecent = houseList[0]
        fh.close()
    
    time.sleep(86400)
    setUp() 
    main(senateRecent, houseRecent)

#connect to smtp server

fs = open("senateRecentStorage.json", "r")
fh = open("houseRecentStorage.json", "r")
fr = open("stockRecentStorage.json", "r")
s = json.load(fs)
h = json.load(fh)
r = json.load(fr)

fs.close()
fh.close()
r.close
setUp()
main(s, h, r)
